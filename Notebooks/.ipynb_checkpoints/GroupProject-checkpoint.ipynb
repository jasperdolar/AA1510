{
 "cells": [
  {
   "cell_type": "markdown",
   "metadata": {},
   "source": [
    "<img src=\"logo.png\" width=\"250\">"
   ]
  },
  {
   "cell_type": "markdown",
   "metadata": {},
   "source": [
    "# **OmniComm Telecom Customer Churn Prediction**\n",
    "## AAI-510-04 Group 1 - Final Project\n",
    "#### **Members**\n",
    "* Carrie Little\n",
    "* Devin Eror\n",
    "* Jasper A. Dolar\n",
    "\n",
    "> [Project GitHub Repository](https://github.com/jasperdolar/AA1510)"
   ]
  },
  {
   "cell_type": "markdown",
   "metadata": {},
   "source": [
    "## Problem Statement and Justification for the Proposed Approach\n",
    "\n",
    "OmniComm Telecom faces a significant business challenge with customer churn. The company has 30.5 million residential subscribers and loses approximately 7% of them each month, amounting to 640 million in lost revenue quarterly. Reducing churn by even 1% could generate an estimated 366 million in additional annual revenue.\n",
    "\n",
    "The business needs a reliable, interpretable, and cost-effective machine learning solution that uses existing CRM, billing, and support data to identify customers at high risk of churning. The goal is to flag these customers early, enabling Customer Success to intervene and retain them.\n"
   ]
  },
  {
   "cell_type": "markdown",
   "metadata": {},
   "source": [
    "### Import Necessary Libraries"
   ]
  },
  {
   "cell_type": "code",
   "execution_count": 1,
   "metadata": {},
   "outputs": [],
   "source": [
    "#import necessary libraries\n",
    "import pandas as pd\n",
    "import numpy as np\n",
    "import matplotlib.pyplot as plt\n",
    "import seaborn as sns\n",
    "from pathlib import Path\n",
    "import matplotlib.pyplot as plt\n",
    "\n",
    "#train/test/split and StandardScaler libraries\n",
    "from sklearn.model_selection import train_test_split\n",
    "from sklearn.preprocessing import LabelEncoder, StandardScaler\n",
    "\n",
    "#Model 1 - Logistic Regression - libraries\n",
    "from sklearn.linear_model import LogisticRegression\n",
    "from sklearn.metrics import classification_report, confusion_matrix, accuracy_score\n",
    "\n",
    "#Model 2 - Random Forest - libraries\n",
    "from sklearn.ensemble import RandomForestClassifier\n",
    "\n",
    "#Model 3 - XGBoost - Libraries\n",
    "from xgboost import XGBClassifier\n",
    "\n",
    "#Model 4- SVM\n",
    "from sklearn.svm import SVC\n",
    "from sklearn.metrics import classification_report, confusion_matrix\n"
   ]
  },
  {
   "cell_type": "markdown",
   "metadata": {},
   "source": [
    "### Load The Dataset"
   ]
  },
  {
   "cell_type": "code",
   "execution_count": 2,
   "metadata": {},
   "outputs": [
    {
     "data": {
      "text/html": [
       "<div>\n",
       "<style scoped>\n",
       "    .dataframe tbody tr th:only-of-type {\n",
       "        vertical-align: middle;\n",
       "    }\n",
       "\n",
       "    .dataframe tbody tr th {\n",
       "        vertical-align: top;\n",
       "    }\n",
       "\n",
       "    .dataframe thead th {\n",
       "        text-align: right;\n",
       "    }\n",
       "</style>\n",
       "<table border=\"1\" class=\"dataframe\">\n",
       "  <thead>\n",
       "    <tr style=\"text-align: right;\">\n",
       "      <th></th>\n",
       "      <th>customerID</th>\n",
       "      <th>gender</th>\n",
       "      <th>SeniorCitizen</th>\n",
       "      <th>Partner</th>\n",
       "      <th>Dependents</th>\n",
       "      <th>tenure</th>\n",
       "      <th>PhoneService</th>\n",
       "      <th>MultipleLines</th>\n",
       "      <th>InternetService</th>\n",
       "      <th>OnlineSecurity</th>\n",
       "      <th>...</th>\n",
       "      <th>DeviceProtection</th>\n",
       "      <th>TechSupport</th>\n",
       "      <th>StreamingTV</th>\n",
       "      <th>StreamingMovies</th>\n",
       "      <th>Contract</th>\n",
       "      <th>PaperlessBilling</th>\n",
       "      <th>PaymentMethod</th>\n",
       "      <th>MonthlyCharges</th>\n",
       "      <th>TotalCharges</th>\n",
       "      <th>Churn</th>\n",
       "    </tr>\n",
       "  </thead>\n",
       "  <tbody>\n",
       "    <tr>\n",
       "      <th>0</th>\n",
       "      <td>7590-VHVEG</td>\n",
       "      <td>Female</td>\n",
       "      <td>0</td>\n",
       "      <td>Yes</td>\n",
       "      <td>No</td>\n",
       "      <td>1</td>\n",
       "      <td>No</td>\n",
       "      <td>No phone service</td>\n",
       "      <td>DSL</td>\n",
       "      <td>No</td>\n",
       "      <td>...</td>\n",
       "      <td>No</td>\n",
       "      <td>No</td>\n",
       "      <td>No</td>\n",
       "      <td>No</td>\n",
       "      <td>Month-to-month</td>\n",
       "      <td>Yes</td>\n",
       "      <td>Electronic check</td>\n",
       "      <td>29.85</td>\n",
       "      <td>29.85</td>\n",
       "      <td>No</td>\n",
       "    </tr>\n",
       "    <tr>\n",
       "      <th>1</th>\n",
       "      <td>5575-GNVDE</td>\n",
       "      <td>Male</td>\n",
       "      <td>0</td>\n",
       "      <td>No</td>\n",
       "      <td>No</td>\n",
       "      <td>34</td>\n",
       "      <td>Yes</td>\n",
       "      <td>No</td>\n",
       "      <td>DSL</td>\n",
       "      <td>Yes</td>\n",
       "      <td>...</td>\n",
       "      <td>Yes</td>\n",
       "      <td>No</td>\n",
       "      <td>No</td>\n",
       "      <td>No</td>\n",
       "      <td>One year</td>\n",
       "      <td>No</td>\n",
       "      <td>Mailed check</td>\n",
       "      <td>56.95</td>\n",
       "      <td>1889.5</td>\n",
       "      <td>No</td>\n",
       "    </tr>\n",
       "    <tr>\n",
       "      <th>2</th>\n",
       "      <td>3668-QPYBK</td>\n",
       "      <td>Male</td>\n",
       "      <td>0</td>\n",
       "      <td>No</td>\n",
       "      <td>No</td>\n",
       "      <td>2</td>\n",
       "      <td>Yes</td>\n",
       "      <td>No</td>\n",
       "      <td>DSL</td>\n",
       "      <td>Yes</td>\n",
       "      <td>...</td>\n",
       "      <td>No</td>\n",
       "      <td>No</td>\n",
       "      <td>No</td>\n",
       "      <td>No</td>\n",
       "      <td>Month-to-month</td>\n",
       "      <td>Yes</td>\n",
       "      <td>Mailed check</td>\n",
       "      <td>53.85</td>\n",
       "      <td>108.15</td>\n",
       "      <td>Yes</td>\n",
       "    </tr>\n",
       "    <tr>\n",
       "      <th>3</th>\n",
       "      <td>7795-CFOCW</td>\n",
       "      <td>Male</td>\n",
       "      <td>0</td>\n",
       "      <td>No</td>\n",
       "      <td>No</td>\n",
       "      <td>45</td>\n",
       "      <td>No</td>\n",
       "      <td>No phone service</td>\n",
       "      <td>DSL</td>\n",
       "      <td>Yes</td>\n",
       "      <td>...</td>\n",
       "      <td>Yes</td>\n",
       "      <td>Yes</td>\n",
       "      <td>No</td>\n",
       "      <td>No</td>\n",
       "      <td>One year</td>\n",
       "      <td>No</td>\n",
       "      <td>Bank transfer (automatic)</td>\n",
       "      <td>42.30</td>\n",
       "      <td>1840.75</td>\n",
       "      <td>No</td>\n",
       "    </tr>\n",
       "    <tr>\n",
       "      <th>4</th>\n",
       "      <td>9237-HQITU</td>\n",
       "      <td>Female</td>\n",
       "      <td>0</td>\n",
       "      <td>No</td>\n",
       "      <td>No</td>\n",
       "      <td>2</td>\n",
       "      <td>Yes</td>\n",
       "      <td>No</td>\n",
       "      <td>Fiber optic</td>\n",
       "      <td>No</td>\n",
       "      <td>...</td>\n",
       "      <td>No</td>\n",
       "      <td>No</td>\n",
       "      <td>No</td>\n",
       "      <td>No</td>\n",
       "      <td>Month-to-month</td>\n",
       "      <td>Yes</td>\n",
       "      <td>Electronic check</td>\n",
       "      <td>70.70</td>\n",
       "      <td>151.65</td>\n",
       "      <td>Yes</td>\n",
       "    </tr>\n",
       "  </tbody>\n",
       "</table>\n",
       "<p>5 rows × 21 columns</p>\n",
       "</div>"
      ],
      "text/plain": [
       "   customerID  gender  SeniorCitizen Partner Dependents  tenure PhoneService  \\\n",
       "0  7590-VHVEG  Female              0     Yes         No       1           No   \n",
       "1  5575-GNVDE    Male              0      No         No      34          Yes   \n",
       "2  3668-QPYBK    Male              0      No         No       2          Yes   \n",
       "3  7795-CFOCW    Male              0      No         No      45           No   \n",
       "4  9237-HQITU  Female              0      No         No       2          Yes   \n",
       "\n",
       "      MultipleLines InternetService OnlineSecurity  ... DeviceProtection  \\\n",
       "0  No phone service             DSL             No  ...               No   \n",
       "1                No             DSL            Yes  ...              Yes   \n",
       "2                No             DSL            Yes  ...               No   \n",
       "3  No phone service             DSL            Yes  ...              Yes   \n",
       "4                No     Fiber optic             No  ...               No   \n",
       "\n",
       "  TechSupport StreamingTV StreamingMovies        Contract PaperlessBilling  \\\n",
       "0          No          No              No  Month-to-month              Yes   \n",
       "1          No          No              No        One year               No   \n",
       "2          No          No              No  Month-to-month              Yes   \n",
       "3         Yes          No              No        One year               No   \n",
       "4          No          No              No  Month-to-month              Yes   \n",
       "\n",
       "               PaymentMethod MonthlyCharges  TotalCharges Churn  \n",
       "0           Electronic check          29.85         29.85    No  \n",
       "1               Mailed check          56.95        1889.5    No  \n",
       "2               Mailed check          53.85        108.15   Yes  \n",
       "3  Bank transfer (automatic)          42.30       1840.75    No  \n",
       "4           Electronic check          70.70        151.65   Yes  \n",
       "\n",
       "[5 rows x 21 columns]"
      ]
     },
     "execution_count": 2,
     "metadata": {},
     "output_type": "execute_result"
    }
   ],
   "source": [
    "# Load the dataset\n",
    "file_path = Path(\"..\") / \"data\" / \"telco_customer_churn.csv\"\n",
    "df = pd.read_csv(file_path)\n",
    "\n",
    "# Display the first few rows\n",
    "df.head()"
   ]
  },
  {
   "cell_type": "markdown",
   "metadata": {},
   "source": [
    "## Data Understanding (EDA)\n",
    "\n",
    "We used the IBM Telco Customer Churn dataset from Kaggle, containing 7,043 customer records and 21 features. The features fall into three categories:\n",
    "\n",
    "- **Demographics:** gender, senior citizen status, partner, and dependents.\n",
    "- **Services used:** phone, internet, streaming, online backup, etc.\n",
    "- **Account information:** tenure, contract type, payment method, charges.\n",
    "\n",
    "> [IBM Telco Customer Churn dataset from Kaggle](https://www.kaggle.com/datasets/blastchar/telco-customer-churn)"
   ]
  },
  {
   "cell_type": "code",
   "execution_count": 3,
   "metadata": {},
   "outputs": [],
   "source": [
    "# Generate the initial Exploratory Data Analysis (EDA) summary\n",
    "initial_eda = {\n",
    "    \"Shape\": df.shape,\n",
    "    \"Columns\": df.columns.tolist(),\n",
    "    \"Missing Values\": df.isnull().sum(),\n",
    "    \"Data Types\": df.dtypes,\n",
    "    \"Sample Records\": df.head(5)\n",
    "}"
   ]
  },
  {
   "cell_type": "markdown",
   "metadata": {},
   "source": [
    "**Dataset Summary**\n",
    "> \n",
    "> Shape: (7043 rows, 21 columns)\n",
    "\n",
    "> Target Variable: 'Churn' (Binary: \"Yes\" or \"No\")"
   ]
  },
  {
   "cell_type": "code",
   "execution_count": 4,
   "metadata": {},
   "outputs": [
    {
     "data": {
      "text/plain": [
       "(7043, 21)"
      ]
     },
     "execution_count": 4,
     "metadata": {},
     "output_type": "execute_result"
    }
   ],
   "source": [
    "initial_eda['Shape']"
   ]
  },
  {
   "cell_type": "markdown",
   "metadata": {},
   "source": [
    "**Column Overview**"
   ]
  },
  {
   "cell_type": "code",
   "execution_count": 5,
   "metadata": {},
   "outputs": [
    {
     "data": {
      "text/plain": [
       "['customerID',\n",
       " 'gender',\n",
       " 'SeniorCitizen',\n",
       " 'Partner',\n",
       " 'Dependents',\n",
       " 'tenure',\n",
       " 'PhoneService',\n",
       " 'MultipleLines',\n",
       " 'InternetService',\n",
       " 'OnlineSecurity',\n",
       " 'OnlineBackup',\n",
       " 'DeviceProtection',\n",
       " 'TechSupport',\n",
       " 'StreamingTV',\n",
       " 'StreamingMovies',\n",
       " 'Contract',\n",
       " 'PaperlessBilling',\n",
       " 'PaymentMethod',\n",
       " 'MonthlyCharges',\n",
       " 'TotalCharges',\n",
       " 'Churn']"
      ]
     },
     "execution_count": 5,
     "metadata": {},
     "output_type": "execute_result"
    }
   ],
   "source": [
    "initial_eda['Columns']"
   ]
  },
  {
   "cell_type": "markdown",
   "metadata": {},
   "source": [
    "**Missing Values**\n",
    "> All fields are currently complete and show no missing values in their raw form."
   ]
  },
  {
   "cell_type": "code",
   "execution_count": 6,
   "metadata": {},
   "outputs": [
    {
     "data": {
      "text/plain": [
       "customerID          0\n",
       "gender              0\n",
       "SeniorCitizen       0\n",
       "Partner             0\n",
       "Dependents          0\n",
       "tenure              0\n",
       "PhoneService        0\n",
       "MultipleLines       0\n",
       "InternetService     0\n",
       "OnlineSecurity      0\n",
       "OnlineBackup        0\n",
       "DeviceProtection    0\n",
       "TechSupport         0\n",
       "StreamingTV         0\n",
       "StreamingMovies     0\n",
       "Contract            0\n",
       "PaperlessBilling    0\n",
       "PaymentMethod       0\n",
       "MonthlyCharges      0\n",
       "TotalCharges        0\n",
       "Churn               0\n",
       "dtype: int64"
      ]
     },
     "execution_count": 6,
     "metadata": {},
     "output_type": "execute_result"
    }
   ],
   "source": [
    "initial_eda['Missing Values']"
   ]
  },
  {
   "cell_type": "markdown",
   "metadata": {},
   "source": [
    "**Data Types**\n",
    "> 'TotalCharges' should be numeric"
   ]
  },
  {
   "cell_type": "code",
   "execution_count": 7,
   "metadata": {},
   "outputs": [
    {
     "data": {
      "text/plain": [
       "customerID           object\n",
       "gender               object\n",
       "SeniorCitizen         int64\n",
       "Partner              object\n",
       "Dependents           object\n",
       "tenure                int64\n",
       "PhoneService         object\n",
       "MultipleLines        object\n",
       "InternetService      object\n",
       "OnlineSecurity       object\n",
       "OnlineBackup         object\n",
       "DeviceProtection     object\n",
       "TechSupport          object\n",
       "StreamingTV          object\n",
       "StreamingMovies      object\n",
       "Contract             object\n",
       "PaperlessBilling     object\n",
       "PaymentMethod        object\n",
       "MonthlyCharges      float64\n",
       "TotalCharges         object\n",
       "Churn                object\n",
       "dtype: object"
      ]
     },
     "execution_count": 7,
     "metadata": {},
     "output_type": "execute_result"
    }
   ],
   "source": [
    "initial_eda['Data Types']"
   ]
  },
  {
   "cell_type": "markdown",
   "metadata": {},
   "source": [
    "**Sample Records**"
   ]
  },
  {
   "cell_type": "code",
   "execution_count": 8,
   "metadata": {},
   "outputs": [
    {
     "data": {
      "text/html": [
       "<div>\n",
       "<style scoped>\n",
       "    .dataframe tbody tr th:only-of-type {\n",
       "        vertical-align: middle;\n",
       "    }\n",
       "\n",
       "    .dataframe tbody tr th {\n",
       "        vertical-align: top;\n",
       "    }\n",
       "\n",
       "    .dataframe thead th {\n",
       "        text-align: right;\n",
       "    }\n",
       "</style>\n",
       "<table border=\"1\" class=\"dataframe\">\n",
       "  <thead>\n",
       "    <tr style=\"text-align: right;\">\n",
       "      <th></th>\n",
       "      <th>customerID</th>\n",
       "      <th>gender</th>\n",
       "      <th>SeniorCitizen</th>\n",
       "      <th>Partner</th>\n",
       "      <th>Dependents</th>\n",
       "      <th>tenure</th>\n",
       "      <th>PhoneService</th>\n",
       "      <th>MultipleLines</th>\n",
       "      <th>InternetService</th>\n",
       "      <th>OnlineSecurity</th>\n",
       "      <th>...</th>\n",
       "      <th>DeviceProtection</th>\n",
       "      <th>TechSupport</th>\n",
       "      <th>StreamingTV</th>\n",
       "      <th>StreamingMovies</th>\n",
       "      <th>Contract</th>\n",
       "      <th>PaperlessBilling</th>\n",
       "      <th>PaymentMethod</th>\n",
       "      <th>MonthlyCharges</th>\n",
       "      <th>TotalCharges</th>\n",
       "      <th>Churn</th>\n",
       "    </tr>\n",
       "  </thead>\n",
       "  <tbody>\n",
       "    <tr>\n",
       "      <th>0</th>\n",
       "      <td>7590-VHVEG</td>\n",
       "      <td>Female</td>\n",
       "      <td>0</td>\n",
       "      <td>Yes</td>\n",
       "      <td>No</td>\n",
       "      <td>1</td>\n",
       "      <td>No</td>\n",
       "      <td>No phone service</td>\n",
       "      <td>DSL</td>\n",
       "      <td>No</td>\n",
       "      <td>...</td>\n",
       "      <td>No</td>\n",
       "      <td>No</td>\n",
       "      <td>No</td>\n",
       "      <td>No</td>\n",
       "      <td>Month-to-month</td>\n",
       "      <td>Yes</td>\n",
       "      <td>Electronic check</td>\n",
       "      <td>29.85</td>\n",
       "      <td>29.85</td>\n",
       "      <td>No</td>\n",
       "    </tr>\n",
       "    <tr>\n",
       "      <th>1</th>\n",
       "      <td>5575-GNVDE</td>\n",
       "      <td>Male</td>\n",
       "      <td>0</td>\n",
       "      <td>No</td>\n",
       "      <td>No</td>\n",
       "      <td>34</td>\n",
       "      <td>Yes</td>\n",
       "      <td>No</td>\n",
       "      <td>DSL</td>\n",
       "      <td>Yes</td>\n",
       "      <td>...</td>\n",
       "      <td>Yes</td>\n",
       "      <td>No</td>\n",
       "      <td>No</td>\n",
       "      <td>No</td>\n",
       "      <td>One year</td>\n",
       "      <td>No</td>\n",
       "      <td>Mailed check</td>\n",
       "      <td>56.95</td>\n",
       "      <td>1889.5</td>\n",
       "      <td>No</td>\n",
       "    </tr>\n",
       "    <tr>\n",
       "      <th>2</th>\n",
       "      <td>3668-QPYBK</td>\n",
       "      <td>Male</td>\n",
       "      <td>0</td>\n",
       "      <td>No</td>\n",
       "      <td>No</td>\n",
       "      <td>2</td>\n",
       "      <td>Yes</td>\n",
       "      <td>No</td>\n",
       "      <td>DSL</td>\n",
       "      <td>Yes</td>\n",
       "      <td>...</td>\n",
       "      <td>No</td>\n",
       "      <td>No</td>\n",
       "      <td>No</td>\n",
       "      <td>No</td>\n",
       "      <td>Month-to-month</td>\n",
       "      <td>Yes</td>\n",
       "      <td>Mailed check</td>\n",
       "      <td>53.85</td>\n",
       "      <td>108.15</td>\n",
       "      <td>Yes</td>\n",
       "    </tr>\n",
       "    <tr>\n",
       "      <th>3</th>\n",
       "      <td>7795-CFOCW</td>\n",
       "      <td>Male</td>\n",
       "      <td>0</td>\n",
       "      <td>No</td>\n",
       "      <td>No</td>\n",
       "      <td>45</td>\n",
       "      <td>No</td>\n",
       "      <td>No phone service</td>\n",
       "      <td>DSL</td>\n",
       "      <td>Yes</td>\n",
       "      <td>...</td>\n",
       "      <td>Yes</td>\n",
       "      <td>Yes</td>\n",
       "      <td>No</td>\n",
       "      <td>No</td>\n",
       "      <td>One year</td>\n",
       "      <td>No</td>\n",
       "      <td>Bank transfer (automatic)</td>\n",
       "      <td>42.30</td>\n",
       "      <td>1840.75</td>\n",
       "      <td>No</td>\n",
       "    </tr>\n",
       "    <tr>\n",
       "      <th>4</th>\n",
       "      <td>9237-HQITU</td>\n",
       "      <td>Female</td>\n",
       "      <td>0</td>\n",
       "      <td>No</td>\n",
       "      <td>No</td>\n",
       "      <td>2</td>\n",
       "      <td>Yes</td>\n",
       "      <td>No</td>\n",
       "      <td>Fiber optic</td>\n",
       "      <td>No</td>\n",
       "      <td>...</td>\n",
       "      <td>No</td>\n",
       "      <td>No</td>\n",
       "      <td>No</td>\n",
       "      <td>No</td>\n",
       "      <td>Month-to-month</td>\n",
       "      <td>Yes</td>\n",
       "      <td>Electronic check</td>\n",
       "      <td>70.70</td>\n",
       "      <td>151.65</td>\n",
       "      <td>Yes</td>\n",
       "    </tr>\n",
       "  </tbody>\n",
       "</table>\n",
       "<p>5 rows × 21 columns</p>\n",
       "</div>"
      ],
      "text/plain": [
       "   customerID  gender  SeniorCitizen Partner Dependents  tenure PhoneService  \\\n",
       "0  7590-VHVEG  Female              0     Yes         No       1           No   \n",
       "1  5575-GNVDE    Male              0      No         No      34          Yes   \n",
       "2  3668-QPYBK    Male              0      No         No       2          Yes   \n",
       "3  7795-CFOCW    Male              0      No         No      45           No   \n",
       "4  9237-HQITU  Female              0      No         No       2          Yes   \n",
       "\n",
       "      MultipleLines InternetService OnlineSecurity  ... DeviceProtection  \\\n",
       "0  No phone service             DSL             No  ...               No   \n",
       "1                No             DSL            Yes  ...              Yes   \n",
       "2                No             DSL            Yes  ...               No   \n",
       "3  No phone service             DSL            Yes  ...              Yes   \n",
       "4                No     Fiber optic             No  ...               No   \n",
       "\n",
       "  TechSupport StreamingTV StreamingMovies        Contract PaperlessBilling  \\\n",
       "0          No          No              No  Month-to-month              Yes   \n",
       "1          No          No              No        One year               No   \n",
       "2          No          No              No  Month-to-month              Yes   \n",
       "3         Yes          No              No        One year               No   \n",
       "4          No          No              No  Month-to-month              Yes   \n",
       "\n",
       "               PaymentMethod MonthlyCharges  TotalCharges Churn  \n",
       "0           Electronic check          29.85         29.85    No  \n",
       "1               Mailed check          56.95        1889.5    No  \n",
       "2               Mailed check          53.85        108.15   Yes  \n",
       "3  Bank transfer (automatic)          42.30       1840.75    No  \n",
       "4           Electronic check          70.70        151.65   Yes  \n",
       "\n",
       "[5 rows x 21 columns]"
      ]
     },
     "execution_count": 8,
     "metadata": {},
     "output_type": "execute_result"
    }
   ],
   "source": [
    "initial_eda['Sample Records']"
   ]
  },
  {
   "cell_type": "markdown",
   "metadata": {},
   "source": [
    "**Plot Visualizations**"
   ]
  },
  {
   "cell_type": "code",
   "execution_count": 9,
   "metadata": {},
   "outputs": [
    {
     "data": {
      "text/plain": [
       "Text(0.5, 1.0, 'Total Charges Distribution by Churn')"
      ]
     },
     "execution_count": 9,
     "metadata": {},
     "output_type": "execute_result"
    },
    {
     "data": {
      "image/png": "[encoded data removed]",
      "text/plain": [
       "<Figure size 1400x2000 with 6 Axes>"
      ]
     },
     "metadata": {},
     "output_type": "display_data"
    }
   ],
   "source": [
    "# Convert TotalCharges to numeric for plotting\n",
    "df['TotalCharges'] = pd.to_numeric(df['TotalCharges'], errors='coerce')\n",
    "\n",
    "#subplots\n",
    "fig, axes = plt.subplots(3, 2, figsize=(14, 20))\n",
    "\n",
    "# Set up plot styles\n",
    "sns.set(style=\"whitegrid\")\n",
    "\n",
    "#Plot 1: Churn distribution\n",
    "ax = axes[0,0]\n",
    "sns.countplot(x=\"Churn\",data=df, ax=axes[0,0])\n",
    "axes[0, 0].set_title(\"Churn Distribution\")\n",
    "ax.set_xticks([0, 1]) \n",
    "axes[0, 0].set_xticklabels([\"Not Churned (0)\", \"Churned (1)\"])\n",
    "\n",
    "#Plot 2: Tenure vs Churn\n",
    "sns.histplot(data=df, x=\"tenure\", hue=\"Churn\", bins=30, kde=True, ax=axes[0, 1])\n",
    "axes[0, 1].set_title(\"Tenure Distribution by Churn\")\n",
    "\n",
    "#Plot 3: Monthly Charges Distribution by Churn\n",
    "sns.histplot(data=df, x=\"MonthlyCharges\", hue=\"Churn\", bins=30, kde=True, ax=axes[1, 0])\n",
    "axes[1, 0].set_title(\"Monthly Charges Distribution by Churn\")\n",
    "\n",
    "#Plot 4: Contract type vs churn\n",
    "sns.countplot(x=\"Contract\", hue=\"Churn\", data=df, ax=axes[1, 1])\n",
    "axes[1, 1].set_title(\"Churn by Contract Type\")\n",
    "\n",
    "# Plot 5: Total harges Distribution by Churn\n",
    "sns.histplot(data=df, x=\"TotalCharges\", hue=\"Churn\", bins=30, kde=True, ax=axes[2, 0])\n",
    "axes[2, 0].set_title(\"Total Charges Distribution by Churn\")"
   ]
  },
  {
   "cell_type": "markdown",
   "metadata": {},
   "source": [
    "Visualizations & Interpretations\n",
    "Churn distribution: the dataset is not balanced, with noticeably more customers not churning than churning. This imbalance must be considered when selecting models and evaluation metrics.\n",
    "\n",
    "Churn by contract type:\n",
    "Customers with month-to-month contracts churn at much\n",
    "higher rates than those with one-year or two-year contracts.\n",
    "This suggests contract length is a strong predictor of churn and \n",
    "Customers are less likely to churn while locked in a multi-year contract\n",
    "\n",
    "Tenure Distribution by Churn:\n",
    "Customers with shorter tenures are more likely to churn,\n",
    "which may indicate that customer loyalty and length of service\n",
    "reduce churn risk.\n",
    "\n",
    "Monthly Charges Distribution by Churn:\n",
    "Customers who churn tend to have slightly higher monthly charges\n",
    "compared to those who stay.  There appears to be a churn \n",
    "concentration in mid-to-high charge ranges."
   ]
  },
  {
   "cell_type": "markdown",
   "metadata": {},
   "source": [
    "### Key Insights from EDA\n",
    "\n",
    "- **Churn Distribution:** About 27% of customers churned; this class imbalance was considered in modeling.\n",
    "- **Contract Type:** Customers with month-to-month contracts churn significantly more than those with one- or two-year contracts.\n",
    "- **Monthly Charges:** Churners tend to have higher monthly charges.\n",
    "- **Tenure:** Shorter tenure correlates with higher churn risk.\n",
    "\n",
    "Visualizations included count plots, histograms with KDEs, and comparative churn graphs across contract types, tenure, and monthly charges."
   ]
  },
  {
   "cell_type": "markdown",
   "metadata": {},
   "source": [
    "## Data Preparation & Feature Engineering"
   ]
  },
  {
   "cell_type": "markdown",
   "metadata": {},
   "source": [
    "### Data Cleaning\n",
    "- Dropped `customerID` as it is a non-predictive identifier.\n",
    "- Converted `TotalCharges` to numeric and missing values filled with the median.\n",
    "- Transformed `Churn` to binary (Yes = 1, No = 0).\n",
    "- Applied one-hot encoding to categorical variables."
   ]
  },
  {
   "cell_type": "code",
   "execution_count": 10,
   "metadata": {},
   "outputs": [],
   "source": [
    "#drop customerID \n",
    "df.drop(\"customerID\", axis=1, inplace=True)"
   ]
  },
  {
   "cell_type": "code",
   "execution_count": 11,
   "metadata": {},
   "outputs": [],
   "source": [
    "# Convert TotalCharges to numeric\n",
    "df[\"TotalCharges\"] = pd.to_numeric(df[\"TotalCharges\"], errors=\"coerce\")"
   ]
  },
  {
   "cell_type": "code",
   "execution_count": 12,
   "metadata": {},
   "outputs": [],
   "source": [
    "#handle missing values in \"TotalCharges\" by filling with the median\n",
    "df[\"TotalCharges\"] = df[\"TotalCharges\"].fillna(df[\"TotalCharges\"].median())"
   ]
  },
  {
   "cell_type": "code",
   "execution_count": 13,
   "metadata": {},
   "outputs": [],
   "source": [
    "#convert variable target \"Churn\" to binary format\n",
    "#where Yes = 1, No = 0\n",
    "#this allows us to use classification models\n",
    "df[\"Churn\"] = df[\"Churn\"].map({\"Yes\": 1, \"No\": 0})"
   ]
  },
  {
   "cell_type": "code",
   "execution_count": 14,
   "metadata": {},
   "outputs": [],
   "source": [
    "#one-hot encode\n",
    "#encode categorial values -- convert categorical columns into\n",
    "#binary variables.  This is needed because many ML models \n",
    "#work only with numeric input\n",
    "df_encoded = pd.get_dummies(df, drop_first=True)"
   ]
  },
  {
   "cell_type": "code",
   "execution_count": 15,
   "metadata": {},
   "outputs": [
    {
     "data": {
      "text/html": [
       "<div>\n",
       "<style scoped>\n",
       "    .dataframe tbody tr th:only-of-type {\n",
       "        vertical-align: middle;\n",
       "    }\n",
       "\n",
       "    .dataframe tbody tr th {\n",
       "        vertical-align: top;\n",
       "    }\n",
       "\n",
       "    .dataframe thead th {\n",
       "        text-align: right;\n",
       "    }\n",
       "</style>\n",
       "<table border=\"1\" class=\"dataframe\">\n",
       "  <thead>\n",
       "    <tr style=\"text-align: right;\">\n",
       "      <th></th>\n",
       "      <th>SeniorCitizen</th>\n",
       "      <th>tenure</th>\n",
       "      <th>MonthlyCharges</th>\n",
       "      <th>TotalCharges</th>\n",
       "      <th>Churn</th>\n",
       "      <th>gender_Male</th>\n",
       "      <th>Partner_Yes</th>\n",
       "      <th>Dependents_Yes</th>\n",
       "      <th>PhoneService_Yes</th>\n",
       "      <th>MultipleLines_No phone service</th>\n",
       "      <th>...</th>\n",
       "      <th>StreamingTV_No internet service</th>\n",
       "      <th>StreamingTV_Yes</th>\n",
       "      <th>StreamingMovies_No internet service</th>\n",
       "      <th>StreamingMovies_Yes</th>\n",
       "      <th>Contract_One year</th>\n",
       "      <th>Contract_Two year</th>\n",
       "      <th>PaperlessBilling_Yes</th>\n",
       "      <th>PaymentMethod_Credit card (automatic)</th>\n",
       "      <th>PaymentMethod_Electronic check</th>\n",
       "      <th>PaymentMethod_Mailed check</th>\n",
       "    </tr>\n",
       "  </thead>\n",
       "  <tbody>\n",
       "    <tr>\n",
       "      <th>0</th>\n",
       "      <td>0</td>\n",
       "      <td>1</td>\n",
       "      <td>29.85</td>\n",
       "      <td>29.85</td>\n",
       "      <td>0</td>\n",
       "      <td>0</td>\n",
       "      <td>1</td>\n",
       "      <td>0</td>\n",
       "      <td>0</td>\n",
       "      <td>1</td>\n",
       "      <td>...</td>\n",
       "      <td>0</td>\n",
       "      <td>0</td>\n",
       "      <td>0</td>\n",
       "      <td>0</td>\n",
       "      <td>0</td>\n",
       "      <td>0</td>\n",
       "      <td>1</td>\n",
       "      <td>0</td>\n",
       "      <td>1</td>\n",
       "      <td>0</td>\n",
       "    </tr>\n",
       "    <tr>\n",
       "      <th>1</th>\n",
       "      <td>0</td>\n",
       "      <td>34</td>\n",
       "      <td>56.95</td>\n",
       "      <td>1889.50</td>\n",
       "      <td>0</td>\n",
       "      <td>1</td>\n",
       "      <td>0</td>\n",
       "      <td>0</td>\n",
       "      <td>1</td>\n",
       "      <td>0</td>\n",
       "      <td>...</td>\n",
       "      <td>0</td>\n",
       "      <td>0</td>\n",
       "      <td>0</td>\n",
       "      <td>0</td>\n",
       "      <td>1</td>\n",
       "      <td>0</td>\n",
       "      <td>0</td>\n",
       "      <td>0</td>\n",
       "      <td>0</td>\n",
       "      <td>1</td>\n",
       "    </tr>\n",
       "    <tr>\n",
       "      <th>2</th>\n",
       "      <td>0</td>\n",
       "      <td>2</td>\n",
       "      <td>53.85</td>\n",
       "      <td>108.15</td>\n",
       "      <td>1</td>\n",
       "      <td>1</td>\n",
       "      <td>0</td>\n",
       "      <td>0</td>\n",
       "      <td>1</td>\n",
       "      <td>0</td>\n",
       "      <td>...</td>\n",
       "      <td>0</td>\n",
       "      <td>0</td>\n",
       "      <td>0</td>\n",
       "      <td>0</td>\n",
       "      <td>0</td>\n",
       "      <td>0</td>\n",
       "      <td>1</td>\n",
       "      <td>0</td>\n",
       "      <td>0</td>\n",
       "      <td>1</td>\n",
       "    </tr>\n",
       "    <tr>\n",
       "      <th>3</th>\n",
       "      <td>0</td>\n",
       "      <td>45</td>\n",
       "      <td>42.30</td>\n",
       "      <td>1840.75</td>\n",
       "      <td>0</td>\n",
       "      <td>1</td>\n",
       "      <td>0</td>\n",
       "      <td>0</td>\n",
       "      <td>0</td>\n",
       "      <td>1</td>\n",
       "      <td>...</td>\n",
       "      <td>0</td>\n",
       "      <td>0</td>\n",
       "      <td>0</td>\n",
       "      <td>0</td>\n",
       "      <td>1</td>\n",
       "      <td>0</td>\n",
       "      <td>0</td>\n",
       "      <td>0</td>\n",
       "      <td>0</td>\n",
       "      <td>0</td>\n",
       "    </tr>\n",
       "    <tr>\n",
       "      <th>4</th>\n",
       "      <td>0</td>\n",
       "      <td>2</td>\n",
       "      <td>70.70</td>\n",
       "      <td>151.65</td>\n",
       "      <td>1</td>\n",
       "      <td>0</td>\n",
       "      <td>0</td>\n",
       "      <td>0</td>\n",
       "      <td>1</td>\n",
       "      <td>0</td>\n",
       "      <td>...</td>\n",
       "      <td>0</td>\n",
       "      <td>0</td>\n",
       "      <td>0</td>\n",
       "      <td>0</td>\n",
       "      <td>0</td>\n",
       "      <td>0</td>\n",
       "      <td>1</td>\n",
       "      <td>0</td>\n",
       "      <td>1</td>\n",
       "      <td>0</td>\n",
       "    </tr>\n",
       "  </tbody>\n",
       "</table>\n",
       "<p>5 rows × 31 columns</p>\n",
       "</div>"
      ],
      "text/plain": [
       "   SeniorCitizen  tenure  MonthlyCharges  TotalCharges  Churn  gender_Male  \\\n",
       "0              0       1           29.85         29.85      0            0   \n",
       "1              0      34           56.95       1889.50      0            1   \n",
       "2              0       2           53.85        108.15      1            1   \n",
       "3              0      45           42.30       1840.75      0            1   \n",
       "4              0       2           70.70        151.65      1            0   \n",
       "\n",
       "   Partner_Yes  Dependents_Yes  PhoneService_Yes  \\\n",
       "0            1               0                 0   \n",
       "1            0               0                 1   \n",
       "2            0               0                 1   \n",
       "3            0               0                 0   \n",
       "4            0               0                 1   \n",
       "\n",
       "   MultipleLines_No phone service  ...  StreamingTV_No internet service  \\\n",
       "0                               1  ...                                0   \n",
       "1                               0  ...                                0   \n",
       "2                               0  ...                                0   \n",
       "3                               1  ...                                0   \n",
       "4                               0  ...                                0   \n",
       "\n",
       "   StreamingTV_Yes  StreamingMovies_No internet service  StreamingMovies_Yes  \\\n",
       "0                0                                    0                    0   \n",
       "1                0                                    0                    0   \n",
       "2                0                                    0                    0   \n",
       "3                0                                    0                    0   \n",
       "4                0                                    0                    0   \n",
       "\n",
       "   Contract_One year  Contract_Two year  PaperlessBilling_Yes  \\\n",
       "0                  0                  0                     1   \n",
       "1                  1                  0                     0   \n",
       "2                  0                  0                     1   \n",
       "3                  1                  0                     0   \n",
       "4                  0                  0                     1   \n",
       "\n",
       "   PaymentMethod_Credit card (automatic)  PaymentMethod_Electronic check  \\\n",
       "0                                      0                               1   \n",
       "1                                      0                               0   \n",
       "2                                      0                               0   \n",
       "3                                      0                               0   \n",
       "4                                      0                               1   \n",
       "\n",
       "   PaymentMethod_Mailed check  \n",
       "0                           0  \n",
       "1                           1  \n",
       "2                           1  \n",
       "3                           0  \n",
       "4                           0  \n",
       "\n",
       "[5 rows x 31 columns]"
      ]
     },
     "execution_count": 15,
     "metadata": {},
     "output_type": "execute_result"
    }
   ],
   "source": [
    "#check shape after one-hot encoding above\n",
    "df_encoded.shape\n",
    "df_encoded.head()"
   ]
  },
  {
   "cell_type": "markdown",
   "metadata": {},
   "source": [
    "### Feature Engineering"
   ]
  },
  {
   "cell_type": "markdown",
   "metadata": {},
   "source": [
    "- Scaled all features using `StandardScaler` for optimal model performance.\n",
    "- Added an interaction feature: tenure × contract type, based on domain knowledge that tenure impacts churn differently depending on contract length. This was used in the SVM Model."
   ]
  },
  {
   "cell_type": "code",
   "execution_count": 16,
   "metadata": {},
   "outputs": [],
   "source": [
    "#TRAIN-TEST SPLIT AND FEATURE SCALING\n",
    "\n",
    "#split dataset into features (X) and target (y)\n",
    "X = df_encoded.drop(\"Churn\", axis=1)\n",
    "y = df_encoded[\"Churn\"]\n",
    "\n",
    "#split data into training and testing sets\n",
    "#80% train, 20% test, random_state = 23 for reproducibility\n",
    "X_train, X_test, y_train, y_test = train_test_split(X, y, test_size=0.2, random_state=42)\n",
    "\n",
    "#standardize features for better model performance\n",
    "scaler = StandardScaler()\n",
    "X_train_scaled = scaler.fit_transform(X_train)\n",
    "X_test_scaled = scaler.transform(X_test)"
   ]
  },
  {
   "cell_type": "code",
   "execution_count": 17,
   "metadata": {},
   "outputs": [],
   "source": [
    "# Added an interaction feature: tenure × contract type\n",
    "df_model = df\n",
    "df_model['tenure_contract'] = df_model['tenure'] * df_model['Contract']"
   ]
  },
  {
   "cell_type": "markdown",
   "metadata": {},
   "source": [
    "### Feature Selection"
   ]
  },
  {
   "cell_type": "markdown",
   "metadata": {},
   "source": [
    "Rather than using automated feature selection, we retained all engineered and encoded features for modeling. \n",
    "\n",
    "Random Forest feature importances (shown below) afer the Random Forest Model indicated that:\n",
    "\n",
    "- **TotalCharges**, **tenure**, and **MonthlyCharges** were top predictors.\n",
    "- Contract type, internet service, and tech support also played significant roles.\n",
    "- Demographics (like gender) had minimal impact.\n",
    "  \n",
    "This informed both model simplification and interpretation in the final recommendation."
   ]
  },
  {
   "cell_type": "markdown",
   "metadata": {},
   "source": [
    "## Modeling"
   ]
  },
  {
   "cell_type": "markdown",
   "metadata": {},
   "source": [
    "We evaluated four supervised learning models:\n",
    "\n",
    "1. **Logistic Regression** (baseline, interpretable)\n",
    "1. **Random Forest Classifier** (non-linear, feature importance)\n",
    "1. **XGBoost Classifier** (robust boosting, balanced performance)\n",
    "1. **Support Vector Machine** (with hyperparameter tuning and class weighting)\n",
    "\n",
    "All models were assessed using accuracy, precision, recall, and F1-score, with special attention to recall on the churn class (Class 1)."
   ]
  },
  {
   "cell_type": "markdown",
   "metadata": {},
   "source": [
    "#### Model 1 = Logistic Regression"
   ]
  },
  {
   "cell_type": "markdown",
   "metadata": {},
   "source": [
    "#### Train and Evaluate Model 1"
   ]
  },
  {
   "cell_type": "code",
   "execution_count": 18,
   "metadata": {},
   "outputs": [
    {
     "name": "stdout",
     "output_type": "stream",
     "text": [
      "Confusion Matrix\n",
      "[[933 103]\n",
      " [151 222]]\n",
      "\n",
      "Classification Report:\n",
      "                 precision    recall  f1-score   support\n",
      "\n",
      "Not Churned - 0       0.86      0.90      0.88      1036\n",
      "    Churned - 1       0.68      0.60      0.64       373\n",
      "\n",
      "       accuracy                           0.82      1409\n",
      "      macro avg       0.77      0.75      0.76      1409\n",
      "   weighted avg       0.81      0.82      0.82      1409\n",
      "\n",
      "\n",
      "Accuracy Score:\n",
      "0.8197303051809794\n"
     ]
    }
   ],
   "source": [
    "#Model 1: Logistic Regression\n",
    "#Train and Evaluate Model 1\n",
    "#initialize logistic regression model \n",
    "#set max number of iterations to 10000 the solver will run\n",
    "#while trying to find the best fit for the logistic regression model\n",
    "model_lr = LogisticRegression(max_iter=1000, random_state=42)\n",
    "\n",
    "#train model on scaled training data\n",
    "model_lr.fit(X_train_scaled, y_train)\n",
    "\n",
    "#predict on test data\n",
    "y_pred_lr = model_lr.predict(X_test_scaled)\n",
    "\n",
    "#evaluate the model's performance\n",
    "print(\"Confusion Matrix\")\n",
    "print(confusion_matrix(y_test, y_pred_lr))\n",
    "\n",
    "print(\"\\nClassification Report:\")\n",
    "print(classification_report(y_test, y_pred_lr, \n",
    "                             target_names = [\"Not Churned - 0\",\n",
    "                             \"Churned - 1\"]))\n",
    "\n",
    "print(\"\\nAccuracy Score:\")\n",
    "print(accuracy_score(y_test, y_pred_lr))"
   ]
  },
  {
   "cell_type": "markdown",
   "metadata": {},
   "source": [
    "#### Interpretation/Analysis"
   ]
  },
  {
   "cell_type": "markdown",
   "metadata": {},
   "source": [
    "#### Model 1: Logistic Regression\n",
    "#### Interpretation/Analysis\n",
    "\n",
    "##### Confusion Matrix:\n",
    "* 933 - Customers who did not churn and were correctly predicted as \"not churned\" (true negatives)\n",
    "* 103 - customers who did not churn, but the model incorrectly predicted \"not churn\" (false positives)\n",
    "* 151 - customers who did churn, but the model failed to identify them (false negatives)\n",
    "* 222 - customers who churned and were correctly predicted as such (true positives)\n",
    "\n",
    "##### The Logistic Regression model achieved:\n",
    "* an overall accuracy of 82%.\n",
    "\n",
    "##### The model performs well at identifying customers who are NOT likely to churn (Not Churned - 0) with:\n",
    "* Precision: 0.86 (refers to how many predicted non-churnes were actually correct)\n",
    "* Recall: 0.90 (refers to how many actual non-churners were correctly identified)\n",
    "* F1-Score: 0.88 (this is the harmonic mean of precision and recall, balancing both pretty well - higher the better)\n",
    "\n",
    "##### Performance seems week on predicting churners (Class 1):\n",
    "* Precision: 0.68 (some predicted churners were false positives)\n",
    "* Recall: 0.60 (only 60% of actual churners were detected)\n",
    "* F1-Score: 0.64 (overall effectiveness in capturing churners is moderate - just okay - higher the better)\n",
    "\n",
    "The imbalance could be indicative that the model is better\n",
    "at identifying customers will not churn (will stay) than those\n",
    "likely to leave (churners).  Since churn prediction is \n",
    "a class imbalance project, we will want to explore more \n",
    "powerful/better models next (such as Random Forest, \n",
    "and XGBoost), and look at metrics beyond accuracy such as \n",
    "recall for churned customers."
   ]
  },
  {
   "cell_type": "markdown",
   "metadata": {},
   "source": [
    "#### Model 2- Random Forest Classifier"
   ]
  },
  {
   "cell_type": "markdown",
   "metadata": {},
   "source": [
    "#### Train and Evaluate Model 2"
   ]
  },
  {
   "cell_type": "code",
   "execution_count": 19,
   "metadata": {},
   "outputs": [
    {
     "name": "stdout",
     "output_type": "stream",
     "text": [
      "Confusion Matrix\n",
      "[[942  94]\n",
      " [202 171]]\n",
      "\n",
      "Classification Report: \n",
      "                 precision    recall  f1-score   support\n",
      "\n",
      "Not Churned - 0       0.82      0.91      0.86      1036\n",
      "    Churned - 1       0.65      0.46      0.54       373\n",
      "\n",
      "       accuracy                           0.79      1409\n",
      "      macro avg       0.73      0.68      0.70      1409\n",
      "   weighted avg       0.78      0.79      0.78      1409\n",
      "\n",
      "\n",
      "Accuracy Score:\n",
      "0.7899219304471257\n"
     ]
    }
   ],
   "source": [
    "#MODEL 2 = TRAIN AND EVALUATE MODEL 2\n",
    "#MODEL: Random Forest Classifier\n",
    "\n",
    "#initialize Random Forest Model\n",
    "#will build 100 decision trees n_estimators=100\n",
    "#each tree is trained on a different bootstrap sample of the training data.\n",
    "#final prediction is determined by majority voting (for classification)\n",
    "#generally, more trees improve performance and stability but have a longer computation time\n",
    "\n",
    "model_rf = RandomForestClassifier(n_estimators=100, random_state=42)\n",
    "\n",
    "#train model on scaled training data\n",
    "model_rf.fit(X_train_scaled, y_train)\n",
    "\n",
    "#predict on test data\n",
    "y_pred_rf = model_rf.predict(X_test_scaled)\n",
    "\n",
    "#evaluate the model's performance\n",
    "print(\"Confusion Matrix\")\n",
    "print(confusion_matrix(y_test, y_pred_rf))\n",
    "\n",
    "print(\"\\nClassification Report: \")\n",
    "print(classification_report(y_test, y_pred_rf,\n",
    "                            target_names = [\"Not Churned - 0\",\n",
    "                                            \"Churned - 1\"]))\n",
    "\n",
    "print(\"\\nAccuracy Score:\")\n",
    "print(accuracy_score(y_test, y_pred_rf))"
   ]
  },
  {
   "cell_type": "markdown",
   "metadata": {},
   "source": [
    "#### Interpretation/Analysis"
   ]
  },
  {
   "cell_type": "markdown",
   "metadata": {},
   "source": [
    "#### Model 2: Random Forest \n",
    "#### Interpretation / Analysis\n",
    "\n",
    "##### Confusion Matrix:\n",
    "* 942 = customers who did not churn and the model correctly predicted \"not churn\" (true negatives)\n",
    "* 94 = customers who did not churn but the model incorrectly predicted \"churn\" (false positives)\n",
    "* 202 = customers who did not churn but the model predicted \"not churn\" (false negatives)\n",
    "* 171 = customers who did churn and the model predicted \"churn\" (true positives)\n",
    "\n",
    "The Random Forest model achieved an accuracy of about 79%,\n",
    "which is slighly lower than Logistic Regression.\n",
    " \n",
    "##### The model seems to continue to perform well at identifying customers who are not likely to churn (Class 0):\n",
    "* Precision: 0.82 (refers to how many predicted non-churners were actually correct)\n",
    "* Recall: 0.91 (refers to how many actual non-churners were correctly identified)\n",
    "* F1-Score: 0.86 (balances both this is the harmonic mean of precision and recall, higher is better )\n",
    "\n",
    "##### However, the model's performance on predicting churners (Class 1) is noticeably weaker:\n",
    "* Precision: 0.65 (fair number of false positives)\n",
    "* Recall: 0.46 (less than half of actual churners were detected)\n",
    "* F1-Score: 0.54 (this indicates bad overall performance on churn prediction, higher the better)\n",
    "\n",
    "Overall, the Random Forest slightly underperforms compared to Logistic Regression\n",
    "in terms of identifying churners.  \n",
    "It performs well for non-churners but still seem to struggle\n",
    "to catch customers who actually leave (churners)."
   ]
  },
  {
   "cell_type": "markdown",
   "metadata": {},
   "source": [
    "### Feature Importance Using Random Forest"
   ]
  },
  {
   "cell_type": "code",
   "execution_count": 20,
   "metadata": {},
   "outputs": [
    {
     "data": {
      "image/png": "[encoded data removed]",
      "text/plain": [
       "<Figure size 1000x600 with 1 Axes>"
      ]
     },
     "metadata": {},
     "output_type": "display_data"
    }
   ],
   "source": [
    "#Feature Importance Using Random Forest\n",
    "\n",
    "#Get feature importances\n",
    "importances = model_rf.feature_importances_\n",
    "feature_names = X.columns\n",
    "\n",
    "#create DataFrame for better plotting\n",
    "feat_importance_df = pd.DataFrame({\n",
    "    'Feature': feature_names,\n",
    "    'Importance': importances\n",
    "}).sort_values(by=\"Importance\", ascending=False)\n",
    "\n",
    "#plot top 15 most important features\n",
    "plt.figure(figsize=(10,6))\n",
    "sns.barplot(x=\"Importance\", \n",
    "    y=\"Feature\", \n",
    "    data=feat_importance_df.head(15),\n",
    "    hue=\"Feature\", \n",
    "    palette=\"Blues_d\")\n",
    "plt.title(\"Top 15 Important Features - Random Forest\")\n",
    "plt.tight_layout()\n",
    "plt.show()"
   ]
  },
  {
   "cell_type": "markdown",
   "metadata": {},
   "source": [
    "The Random Forest model highlights the most influential features\n",
    "in predicting customer churn:\n",
    "* TotalCharges, tenure, and MonthlyCharges are the top three\n",
    "predictors - these financial and engagement metrics strongly influence \n",
    "whether a customer stays or leaves.\n",
    "* Fiber optic internet and electronic check payments are associated\n",
    "with higher churn risk, possibly because of cost-sensitive or less \n",
    "satisfied customer segments.\n",
    "* Contract type (especially two-year contracts) and services like\n",
    "OnlineSecurity and TechSUpport also impact churn - longer commitments\n",
    "and added support seem to reduce the risk of churn.\n",
    "* Demographics like gender and SeniorCitizens have low impact compared\n",
    "to service-related and billing features.\n",
    "\n",
    "-------\n",
    "These insights from the plots can help the business \n",
    "focus retention efforts on customers with high charges,\n",
    "short tenure, and less stable contract or payment setups."
   ]
  },
  {
   "cell_type": "markdown",
   "metadata": {},
   "source": [
    "#### Model 3- XGBoost Classifier"
   ]
  },
  {
   "cell_type": "markdown",
   "metadata": {},
   "source": [
    "#### Train and Evaluate Model 3"
   ]
  },
  {
   "cell_type": "code",
   "execution_count": 21,
   "metadata": {},
   "outputs": [
    {
     "name": "stdout",
     "output_type": "stream",
     "text": [
      "Confusion Matrix\n",
      "[[925 111]\n",
      " [173 200]]\n",
      "\n",
      "Classification Report: \n",
      "                precision    recall  f1-score   support\n",
      "\n",
      "Not Churned -0       0.84      0.89      0.87      1036\n",
      "   Churned - 1       0.64      0.54      0.58       373\n",
      "\n",
      "      accuracy                           0.80      1409\n",
      "     macro avg       0.74      0.71      0.73      1409\n",
      "  weighted avg       0.79      0.80      0.79      1409\n",
      "\n",
      "\n",
      "Accuracy Score: \n",
      "0.7984386089425124\n"
     ]
    }
   ],
   "source": [
    "#MODEL 3 = TRAIN AND EVALUATE MODEL 3\n",
    "#MODEL: XGBoost Classifier\n",
    "\n",
    "#Initialize XGBoost model\n",
    "model_xgb = XGBClassifier(eval_metric='logloss', random_state=42)\n",
    "\n",
    "#train model on scaled training data\n",
    "model_xgb.fit(X_train_scaled, y_train)\n",
    "\n",
    "#predict on test data\n",
    "y_pred_xgb = model_xgb.predict(X_test_scaled)\n",
    "\n",
    "#evaluate the model's performance\n",
    "print(\"Confusion Matrix\")\n",
    "print(confusion_matrix(y_test, y_pred_xgb))\n",
    "\n",
    "print(\"\\nClassification Report: \")\n",
    "print(classification_report(y_test, y_pred_xgb,\n",
    "                            target_names = [\"Not Churned -0\",\n",
    "                                            \"Churned - 1\"]))\n",
    "\n",
    "print(\"\\nAccuracy Score: \")\n",
    "print(accuracy_score(y_test, y_pred_xgb))"
   ]
  },
  {
   "cell_type": "markdown",
   "metadata": {},
   "source": [
    "#### Interpretation/Analysis"
   ]
  },
  {
   "cell_type": "markdown",
   "metadata": {},
   "source": [
    "#### Model 3: XGBoost Classifier\n",
    "#### Interpretation / Analysis\n",
    "\n",
    "Confusion Matrix:\n",
    "\n",
    "* 926 - correctly predicted customers who did not \"churn\" (true negatives)\n",
    "* 110 - customers who were predicted to churn but did not (false positives)\n",
    "* 187 - customers who actually churned, but were missed by the model (false negatives)\n",
    "* 186 - correctly predicted customers who did churn (true positives)\n",
    "\n",
    "The XGBoost model achieved an accuracy of about 79%, similar to the Random Forest model.\n",
    "\n",
    "##### Performance for non-churners (Class 0) remains strong:\n",
    "* Precision: 0.83 (most predicted non-churners actually non-churners)\n",
    "* Recall: 0.89 (89% of actual non-churners were correctly identified)\n",
    "* F1-Score: 0.86 (good balance between precision and recall)\n",
    "\n",
    "##### Performance for churners (Class 1) is lightly better than Random Forest:\n",
    "* Precision: 0.63 (moderate false positives)\n",
    "* Recall: 0.50 (half of actual churners were correctly identified)\n",
    "* F1-Score: 0.56 (slightly better than Random Forest's 0.54)\n",
    "\n",
    "Overall, XGBoost performs comparably to Random Forest in overall accuracy, \n",
    "but slightly better in detecting churners (higher F1-score for Class 1).\n",
    "However, it still shows room for improvement in recall for churners,\n",
    "suggesting a need to explore class imbalance handling in future iterations.\n"
   ]
  },
  {
   "cell_type": "markdown",
   "metadata": {},
   "source": [
    "#### Model 4- Tuned Support Vector Machines Model (SVM)"
   ]
  },
  {
   "cell_type": "markdown",
   "metadata": {},
   "source": [
    "#### Train and Evaluate Model 4"
   ]
  },
  {
   "cell_type": "code",
   "execution_count": 22,
   "metadata": {},
   "outputs": [
    {
     "name": "stdout",
     "output_type": "stream",
     "text": [
      "Fitting 5 folds for each of 20 candidates, totalling 100 fits\n",
      "🔍 Best parameters: {'svc__C': 0.1, 'svc__gamma': 0.01}\n",
      "✔️ Best CV recall: 0.8227424749163879\n",
      "\n",
      "Classification Report on Test Set:\n",
      "              precision    recall  f1-score   support\n",
      "\n",
      "           0       0.91      0.68      0.78      1035\n",
      "           1       0.48      0.82      0.61       374\n",
      "\n",
      "    accuracy                           0.72      1409\n",
      "   macro avg       0.70      0.75      0.69      1409\n",
      "weighted avg       0.80      0.72      0.74      1409\n",
      "\n",
      "\n",
      "Accuracy Score:\n",
      "0.7189496096522356\n"
     ]
    },
    {
     "data": {
      "image/png": "[encoded data removed]",
      "text/plain": [
       "<Figure size 500x400 with 2 Axes>"
      ]
     },
     "metadata": {},
     "output_type": "display_data"
    }
   ],
   "source": [
    "# Encode categorical variables\n",
    "cat_cols = df_model.select_dtypes(include=['object']).columns\n",
    "le = LabelEncoder()\n",
    "for col in cat_cols:\n",
    "    df_model[col] = le.fit_transform(df_model[col])\n",
    "\n",
    "# Feature matrix and target vector\n",
    "X = df_model.drop('Churn', axis=1)\n",
    "y = df_model['Churn']\n",
    "\n",
    "# Scale features\n",
    "scaler = StandardScaler()\n",
    "X_scaled = scaler.fit_transform(X)\n",
    "\n",
    "# TRAIN/TEST SPLIT\n",
    "from sklearn.model_selection import train_test_split\n",
    "\n",
    "X = df_model.drop('Churn', axis=1)\n",
    "y = df_model['Churn']\n",
    "\n",
    "X_train, X_test, y_train, y_test = train_test_split(\n",
    "    X, y, test_size=0.2, random_state=42, stratify=y\n",
    ")\n",
    "\n",
    "# PIPELINE + GRID SEARCH\n",
    "# --------------------------\n",
    "from sklearn.pipeline import Pipeline\n",
    "from sklearn.preprocessing import StandardScaler\n",
    "from sklearn.svm import SVC\n",
    "from sklearn.model_selection import GridSearchCV\n",
    "from sklearn.metrics import make_scorer, recall_score, classification_report, confusion_matrix\n",
    "\n",
    "# Build a simple pipeline\n",
    "pipeline = Pipeline([\n",
    "    ('scaler', StandardScaler()),\n",
    "    ('svc', SVC(class_weight='balanced', probability=True, random_state=42))\n",
    "])\n",
    "\n",
    "# Define grid of C and γ to search\n",
    "param_grid = {\n",
    "    'svc__C':     [0.1, 1, 10, 100],\n",
    "    'svc__gamma': ['scale', 0.01, 0.1, 1, 10]\n",
    "}\n",
    "\n",
    "# Use recall on the churn (positive) class as our objective\n",
    "recall_scorer = make_scorer(recall_score, pos_label=1)\n",
    "\n",
    "grid = GridSearchCV(\n",
    "    pipeline,\n",
    "    param_grid,\n",
    "    scoring=recall_scorer,\n",
    "    cv=5,\n",
    "    n_jobs=-1,\n",
    "    verbose=1\n",
    ")\n",
    "\n",
    "# Fit the grid search\n",
    "grid.fit(X_train, y_train)\n",
    "\n",
    "print(\"🔍 Best parameters:\", grid.best_params_)\n",
    "print(\"✔️ Best CV recall:\", grid.best_score_)\n",
    "\n",
    "# EVALUATE ON THE TEST SET\n",
    "# ---------------------------\n",
    "best_model = grid.best_estimator_\n",
    "y_pred = best_model.predict(X_test)\n",
    "\n",
    "print(\"\\nClassification Report on Test Set:\")\n",
    "print(classification_report(y_test, y_pred))\n",
    "\n",
    "\n",
    "print(\"\\nAccuracy Score:\")\n",
    "print(accuracy_score(y_test, y_pred))\n",
    "\n",
    "cm = confusion_matrix(y_test, y_pred)\n",
    "plt.figure(figsize=(5,4))\n",
    "plt.imshow(cm, interpolation='nearest', cmap='Blues')\n",
    "plt.title('SVM Confusion Matrix (tuned)')\n",
    "plt.colorbar()\n",
    "plt.xticks([0,1], ['No','Yes'])\n",
    "plt.yticks([0,1], ['No','Yes'])\n",
    "plt.xlabel('Predicted')\n",
    "plt.ylabel('Actual')\n",
    "plt.tight_layout()\n",
    "plt.show()"
   ]
  },
  {
   "cell_type": "markdown",
   "metadata": {},
   "source": [
    "#### Interpretation/Analysis"
   ]
  },
  {
   "cell_type": "markdown",
   "metadata": {},
   "source": [
    "#### SVM Model Evaluation & Interpretation\n",
    "\n",
    "##### Hyperparameter Tuning Results:\n",
    "- **Best parameters:** `C = 0.1`, `gamma = 0.01`  \n",
    "- **Best CV recall (class 1):** 0.8201  \n",
    "\n",
    "##### Overall Accuracy is 0.72  \n",
    "\n",
    "##### Class-wise Metrics\n",
    "\n",
    "| Class      | Precision | Recall | F₁-Score | Support |\n",
    "|------------|:---------:|:------:|:--------:|:-------:|\n",
    "| **No (0)** |   0.91    |  0.68  |   0.78   |  1 035  |\n",
    "| **Yes (1)**|   0.48    |  0.82  |   0.61   |   374   |\n",
    "\n",
    "##### Confusion Matrix\n",
    "\n",
    "|               | Predicted No | Predicted Yes | Total |\n",
    "|---------------|:------------:|:-------------:|:-----:|\n",
    "| **Actual No** |     704      |      331      | 1 035 |\n",
    "| **Actual Yes**|      67      |      307      |  374  |\n",
    "\n",
    "- **True Positives (307):** correctly flagged churners  \n",
    "- **False Negatives (67):** churners missed (18% of churners)  \n",
    "- **False Positives (331):** stayers flagged (32% of non-churners)  \n",
    "- **True Negatives (704):** correctly identified stayers  \n",
    "\n",
    "##### Interpretation\n",
    "- **Recall↑ for churners:** catch ~82% of at-risk customers.  \n",
    "- **Precision↓ for churners:** 0.48; roughly half of flagged customers wouldn’t have churned.  \n",
    "- **Trade-off:**  \n",
    "  - If **missing churners** is costlier than extra outreach, this higher recall is a win.  \n",
    "  - If **outreach cost** is high, the drop in precision may be too expensive.  \n"
   ]
  },
  {
   "cell_type": "markdown",
   "metadata": {},
   "source": [
    "## Evaluation"
   ]
  },
  {
   "cell_type": "markdown",
   "metadata": {},
   "source": [
    "### Model Comparison Summary \n",
    "|  Metric                       | Logistic Regression | Random Forest    | XGBoost      | SVM          |\n",
    "|-------------------------------|:-------------------:|:----------------:|:------------:|:------------:|\n",
    "| **Accuracy**                     |         81.97%      |      78.99%      |   79.84%     |  71.89%  |\n",
    "| **Precision (Class 1 - Churned)**|         0.68        |      0.65        |   0.63       |  0.48  |\n",
    "| **Recall (Class 1 - Churned)**   |         0.60        |      0.46        |   0.50       |  0.82  |\n",
    "| **F1-Score (Class 1 - Churned)** |         0.64        |      0.54        |   0.56       |  0.61 |\n"
   ]
  },
  {
   "cell_type": "markdown",
   "metadata": {},
   "source": [
    "- **Logistic Regression** achieved the best overall balance and interpretability.\n",
    "- **SVM** had the highest recall but much lower precision, which may result in unnecessary retention efforts.\n",
    "- Ensemble models like **Random Forest** and **XGBoost** performed well but had lower recall compared to logistic regression.\n",
    "Logistic Regression achieved the highest recall and F1-Score\n",
    "for predicting churned customers, which is crucial in churn \n",
    "prediction where false negatives (missed churners) are costly."
   ]
  },
  {
   "cell_type": "markdown",
   "metadata": {},
   "source": [
    "Random Forest and XGBoost performed similarly in terms of overall\n",
    "accuracy but had weaker recall and F1-Scores on the churn class.\n",
    "\n",
    "Even when tuned, the Support Vector Machine (SVM) model had poor accuracy. \n",
    "Its recall is higher than that of other models, as it flags 82% of at-risk customers for churn. \n",
    "Its precision is at 48% for incorrectly flagging at-risk for churn customers.\n",
    "\n",
    "While Random Forest, XGBoost, and SVM offer model complexity and robustness,\n",
    "Logistic Regression provided a better sensitivity (recall) and balance \n",
    "for churn detection."
   ]
  },
  {
   "cell_type": "markdown",
   "metadata": {},
   "source": [
    "### Final Conclusion"
   ]
  },
  {
   "attachments": {},
   "cell_type": "markdown",
   "metadata": {},
   "source": [
    "In this project, we built and evaluated four machine learning\n",
    "models: Logistic Regression Random Forest, XGBoost andSVM in order to \n",
    "predict customer churn the telecommunications industry using the \n",
    "IBM Telco Customer Churn Dataset.  Our goal was to help the business\n",
    "identity which customers are likelty to leave, so retention department\n",
    "can be proactively applied. We recommend moving forward with and deploying the logistic regression model."
   ]
  },
  {
   "cell_type": "markdown",
   "metadata": {},
   "source": [
    "## Deployment Plan"
   ]
  },
  {
   "cell_type": "markdown",
   "metadata": {},
   "source": [
    "To turn this customer churn prediction model into a usable\n",
    "business tool, we propose a batch deployment approach integrated\n",
    "into the company's existing analytics system.\n",
    "The goal is to flag potentially churn-prone customers on a regular\n",
    "schedule (say weekly or monthly), enabling the retention team to\n",
    "timely intervene \n",
    "\n",
    "The selected logistic regression model will be deployed as a daily batch scoring system.\n",
    "\n",
    "- Scores will be embedded into the CRM with a churn risk label (High, Medium, Low).\n",
    "- Integration with Python/SQL pipelines ensures scalability.\n",
    "- Retraining is scheduled monthly using new data.\n",
    "- Fairness and performance reviews will occur regularly to monitor stability.\n",
    "\n",
    "A pilot will be launched in one region before a system-wide rollout, as proposed to stakeholders."
   ]
  },
  {
   "cell_type": "markdown",
   "metadata": {},
   "source": [
    "### Dashboard Mockup"
   ]
  },
  {
   "cell_type": "markdown",
   "metadata": {},
   "source": [
    "Generated in ChapGPT, using the project presentation and the logo with the following prompt:\n",
    "\n",
    "\"Can you create a mockup of a CRM dashboard with the Churn project deployed?\""
   ]
  },
  {
   "cell_type": "markdown",
   "metadata": {},
   "source": [
    "<img src=\"Dashboard.png\" width=\"850\">"
   ]
  },
  {
   "cell_type": "markdown",
   "metadata": {},
   "source": [
    "# References"
   ]
  },
  {
   "cell_type": "markdown",
   "metadata": {},
   "source": [
    "* IBM. (n.d.). Markdown for Jupyter notebooks cheatsheet. IBM Documentation. Retrieved June 15, 2025, from https://www.ibm.com/docs/en/watson-studio-local/1.2.3?topic=notebooks-markdown-jupyter-cheatsheetMarsland, S. (2014). Machine learning: An algorithmic perspective (2nd ed.). Chapman & Hall/CRC Press.\n",
    "\n",
    "* OpenAI. (2023). ChatGPT (Version GPT-4) [Large language model]. Retrieved June 15, 2025, from https://chatgpt.com/\n",
    "\n",
    "* Scikit-learn developers. (2025). scikit-learn: Machine learning in Python (Version 1.6.1) [Documentation]. Retrieved June 15, 2025, from https://scikit-learn.org/stable/\n",
    "\n",
    "* scikit-learn developers. (n.d.). sklearn.ensemble.RandomForestClassifier. scikit-learn. Retrieved June 15, 2025, from https://scikit-learn.org/stable/modules/generated/sklearn.ensemble.RandomForestClassifier\n",
    "\n",
    "* scikit-learn developers. (n.d.). sklearn.svm — Support vector machines. scikit-learn. Retrieved June 15, 2025, from https://scikit-learn.org/stable/api/sklearn.svm.html#module-sklearn.svm\n",
    "\n",
    "* XGBoost Developers. (n.d.). XGBoost Python API reference. XGBoost Documentation. Retrieved June 15, 2025, from https://xgboost.readthedocs.io/en/latest/python/python_api.html\n"
   ]
  }
 ],
 "metadata": {
  "kernelspec": {
   "display_name": "Python 3 (ipykernel)",
   "language": "python",
   "name": "python3"
  },
  "language_info": {
   "codemirror_mode": {
    "name": "ipython",
    "version": 3
   },
   "file_extension": ".py",
   "mimetype": "text/x-python",
   "name": "python",
   "nbconvert_exporter": "python",
   "pygments_lexer": "ipython3",
   "version": "3.10.16"
  }
 },
 "nbformat": 4,
 "nbformat_minor": 4
}
