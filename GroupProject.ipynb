{
 "cells": [
  {
   "cell_type": "code",
   "execution_count": null,
   "metadata": {},
   "outputs": [],
   "source": [
    "#Group 1 \n",
    "#Group Project\n",
    "#<Title Goes Here\n",
    "\n",
    "#Team Members:\n",
    "#Carrie Little\n",
    "#Devin Eror\n",
    "#Jasper A. Dolar"
   ]
  }
 ],
 "metadata": {
  "language_info": {
   "name": "python"
  }
 },
 "nbformat": 4,
 "nbformat_minor": 2
}
